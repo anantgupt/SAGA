{
 "cells": [
  {
   "cell_type": "markdown",
   "metadata": {},
   "source": [
    "# Single snapshot spatial-association of range-doppler observations from a linear sensor array\n",
    "__Single snapshot imaging__ provides timely situational awareness, but can utilize neither platform motion, as in synthetic aperture radar, nor track targets across time, as in Kalman filtering and its variants. Associating measurements with targets becomes a fundamental bottleneck in this setting.\n",
    "\n",
    "This notebook illustrates a computationally efficient method for spatial association of single set of unordered range-doppler measurements from  a network of radar sensors. \n",
    "\n",
    "The 2D position and velocity of multiple targets are estimated using a linear array of FMCW radar sensors by identifying and exploiting inherent geometric features to drastically reduce the\n",
    "complexity of spatial association. The algorithm is robust to detection anomalies at sensors and achieves order of magnitude lower complexity compared to conventional methods.\n",
    "\n",
    "More details can be found in our paper: \n",
    "\n",
    "---\n",
    "A. Gupta, A. D. Sezer and U. Madhow, \"[Multi-Sensor Spatial Association Using Joint Range-Doppler Features](https://ieeexplore.ieee.org/abstract/document/9568701),\" in IEEE Transactions on Signal Processing, vol. 69, pp. 5756-5769, 2021, doi: 10.1109/TSP.2021.3119418.\n",
    "\n",
    "---"
   ]
  },
  {
   "cell_type": "code",
   "execution_count": 18,
   "metadata": {},
   "outputs": [],
   "source": [
    "import numpy as np \n",
    "import matplotlib.pyplot as plt \n",
    "from time import perf_counter\n",
    "\n",
    "# Custom libs\n",
    "import GAutils.objects as ob\n",
    "import GAutils.config as cfg # Sim parameters\n",
    "import GAutils.proc_est as pr\n",
    "import GAutils.simulate_snapshot2 as sim2\n",
    "import GAutils.perf_eval as prfe\n",
    "import GAutils.PCRLB as pcrlb\n",
    "import GAutils.ml_est as mle\n",
    "import GAutils.gradient_methods as gm\n",
    "import GAutils.graph_primitives as grpr\n",
    "import GAutils.est_algo as ea"
   ]
  },
  {
   "cell_type": "markdown",
   "metadata": {},
   "source": [
    "### Simulation params"
   ]
  },
  {
   "cell_type": "code",
   "execution_count": 19,
   "metadata": {},
   "outputs": [],
   "source": [
    "assoc_algo = 'SAGA' #Proposed 'SAGA', Brute force 'SAESL'\n",
    "rob = 1 # Robustness level, rho\n",
    "estalgo = 2 #0:DFT (conventional), 1:oversampled DFT, 2:NOMP (proposed super-resolution algo)\n",
    "Nob = 20 # Number of point targets in the scene\n",
    "Nsens = 4 # Number of sensors\n",
    "swidth = 2 # Width of sensor array in m\n",
    "snr = -10 # SNR of FMCW radar sensor beat signal\n",
    "pmiss = 0.1 # Miss probability at each sensor\n",
    "osps = [3,3] # Oversampling factor for DFT est algo, >2 is sufficient\n",
    "\n",
    "# Generate linear array of sensors along x axis\n",
    "sx = np.linspace(-swidth/2, swidth/2,Nsens)\n",
    "sensors = [ob.Sensor(x,0) for x in sx]\n",
    "seed = np.random.randint(1000, size=1)\n",
    "scene = pr.init_random_scene(Nob, sensors, cfg.sep_th, seed)\n",
    "cfgp = {'Nsel': [],# Genie info on # targets\n",
    "            'rd_wt':cfg.rd_wt,\n",
    "            'static_snapshot': cfg.static_snapshot,\n",
    "            'sep_th':cfg.sep_th,\n",
    "            'pmiss':pmiss,\n",
    "            'estalgo':estalgo, \n",
    "            'osps':cfg.osps,\n",
    "            'n_Rc':cfg.n_Rc,\n",
    "            'n_pfa':cfg.n_pfa,\n",
    "            # Association\n",
    "            'rob':rob,\n",
    "            'mode': cfg.mode,\n",
    "            'hscale':cfg.hscale,\n",
    "            'incr':cfg.incr,\n",
    "            'hN': cfg.hN,\n",
    "            'ag_pfa':cfg.ag_pfa,\n",
    "            'al_pfa':cfg.al_pfa,\n",
    "            'Tlen':cfg.Tlen,\n",
    "            # Gauss Newton\n",
    "            'gn_steps':cfg.gn_steps,\n",
    "            'fu_alg':cfg.fu_alg\n",
    "            }"
   ]
  },
  {
   "cell_type": "markdown",
   "metadata": {},
   "source": [
    "### Generate Range, doppler data for linear arrays of sensors"
   ]
  },
  {
   "cell_type": "code",
   "execution_count": 20,
   "metadata": {},
   "outputs": [],
   "source": [
    "tf_list = np.array([sensor.mcs.tf for sensor in sensors])  # FMCW radar pulse time equal for all sensors\n",
    "tfa_list = np.array([sensor.mcs.get_tfa() for sensor in sensors])  # Adjust so that samples vary to keep frame time const.\n",
    "\n",
    "beat = np.zeros(tfa_list.shape, dtype='complex128') #Intialize FMCW sensor beat signal\n",
    "dt = 0 # time between frames = 0:Static, tf_list[0]:moving \n",
    "signal_mag =1 # Normalized signal amplitude\n",
    "for sensor in sensors:\n",
    "    sensor.meas_std = 10 **(-snr/20)*signal_mag\n",
    "\n",
    "gardas = [ob.gardEst() for sensor in enumerate(sensors)]\n",
    "targets_list = []\n",
    "#Genie range, doppler, signal amplitude obs\n",
    "for tno, target in enumerate(scene):\n",
    "    [next_target, AbsPos] = pr.ProcDyms(target, dt, tfa_list)# abs position over obs time\n",
    "    for sensorID, sensor in enumerate(sensors):\n",
    "        random_number = np.random.rand()\n",
    "        if random_number>pmiss: #Miss target otherwise\n",
    "            pure_beat = pr.get_beat(sensor, target, AbsPos[sensorID])\n",
    "            beat[sensorID, :, :] += pure_beat # Add beat signal for each target\n",
    "        garda = pr.get_gard_true(sensor, target) \n",
    "        gardas[sensorID].r=np.append(gardas[sensorID].r,garda.r)\n",
    "        gardas[sensorID].d=np.append(gardas[sensorID].d,garda.d)\n",
    "        gardas[sensorID].g=np.append(gardas[sensorID].g,garda.g)\n",
    "# Add noise to sensor beat signal\n",
    "np.random.seed(seed) # To randomize over parallel runs\n",
    "for sensorID, sensor in enumerate(sensors):\n",
    "    beat[sensorID, :, :] = pr.add_cnoise(beat[sensorID, :, :], sensor.meas_std) \n",
    "#        print('Target{}: x={},y={},vx={},vy={}'.format(tno, target_current.x, target_current.y,target_current.vx,"
   ]
  },
  {
   "cell_type": "markdown",
   "metadata": {},
   "source": [
    "## Radar processing: \n",
    "Estimate Range-doppler from FMCW beat signal using estalgo={0,1,2}\n",
    "* 0. DFT\n",
    "* 1. Oversampled DFT\n",
    "* 2. NOMP, Super-resolution algorithm"
   ]
  },
  {
   "cell_type": "code",
   "execution_count": 21,
   "metadata": {},
   "outputs": [],
   "source": [
    "runtime = np.zeros(3)\n",
    "t=perf_counter()\n",
    "if estalgo == 0:\n",
    "    garda_sel = ea.meth2(np.copy(beat), sensors, cfgp['Nsel'], [1,1])\n",
    "elif estalgo == 1:\n",
    "    garda_sel = ea.meth2(np.copy(beat), sensors, cfgp['Nsel'], cfgp['osps'], cfgp['n_pfa'])\n",
    "elif estalgo == 2:\n",
    "    garda_sel = ea.nomp(np.copy(beat), sensors, cfgp['Nsel'], cfgp['osps'], cfgp['n_Rc'], cfgp['n_pfa'])\n",
    "runtime[0] = perf_counter() - t\n",
    "\n",
    "rd_error = prfe.compute_rd_error(garda_sel, gardas)\n",
    "rde_pack = prfe.compute_rde_targetwise(garda_sel, gardas, sensors)"
   ]
  },
  {
   "cell_type": "markdown",
   "metadata": {},
   "source": [
    "### Perform spatial association across sensors and estimate position, velocity"
   ]
  },
  {
   "cell_type": "code",
   "execution_count": 22,
   "metadata": {},
   "outputs": [],
   "source": [
    " #%% Graph Algo\n",
    "t=perf_counter()\n",
    "G1, Total_edges = grpr.make_graph(garda_sel, sensors, 0) \n",
    "if assoc_algo=='MCF':\n",
    "    min_gsigs, glen, assoc_time = mcft.get_mcfsigs(garda_sel, sensors, cfgp)\n",
    "elif assoc_algo=='mcf_all':\n",
    "    min_gsigs, glen, assoc_time = mcft.get_mcfsigs_all(garda_sel, sensors, cfgp)\n",
    "elif assoc_algo=='SAESL':\n",
    "    min_gsigs, glen, assoc_time = mle.iterative_prune_pht(garda_sel, sensors, cfgp, sum(len(g.r) for g in garda_sel)//2)\n",
    "elif assoc_algo=='SAGA':\n",
    "    min_gsigs, glen, assoc_time = grpr.get_minpaths(G1, sensors, cfgp['mode'], cfgp)\n",
    "else:\n",
    "    print('Invalid association algorithm')\n",
    "runtime[1] = perf_counter() - t # Total time (Make graph + graph association)\n",
    "Pruned_edges = sum([len(nd.lkf) for g in G1 for nd in g]) # No of edges, get V from glen"
   ]
  },
  {
   "cell_type": "markdown",
   "metadata": {},
   "source": [
    "Refine position, velocity estimate"
   ]
  },
  {
   "cell_type": "code",
   "execution_count": 23,
   "metadata": {},
   "outputs": [],
   "source": [
    "t = perf_counter()\n",
    "for sig in min_gsigs:\n",
    "    [dob, nlls_var] = gm.gauss_newton(sig, sensors, sig.state_end.mean , cfgp['gn_steps'], cfgp['rd_wt'])#lm_refine, gauss_newton, huber\n",
    "    sig.state_end.mean = dob\n",
    "runtime[2] = perf_counter() - t # Time to Refine\n",
    "gr_centers = []\n",
    "for gtr in min_gsigs:\n",
    "    dob = gtr.state_end.mean\n",
    "    gr_centers.append(ob.PointTarget(dob[0], dob[1], dob[2], dob[3]))"
   ]
  },
  {
   "cell_type": "code",
   "execution_count": 24,
   "metadata": {
    "jupyter": {
     "source_hidden": true
    },
    "tags": []
   },
   "outputs": [],
   "source": [
    "#Plot likelihood maps\n",
    "# [xgrid, ygrid, llr_map] = mle.create_llrmap([-9,9,180], [1,13,110], [-5,5,2], [-5,5,2], sensors, garda_sel) # Position\n",
    "# cmap = plt.get_cmap('PiYG')\n",
    "# plt.figure(3)\n",
    "# im1 = plt.pcolormesh(xgrid, ygrid, (llr_map), cmap=cmap)\n",
    "# plt.colorbar(im1)\n",
    "# pr.plot_scene(plt, scene, sensors, 3, 'Likelihood Map (Brute Force, Only using r)')\n",
    "#%% Compute error measures\n",
    "# ospa_error1, pv_error = prfe.compute_ospa(scene, gr_centers, sensors, gardas)\n",
    "# [cr,cd, rList, dList]=pcrlb.get_FIMrv(sensors, scene)\n",
    "# crb_conv = pcrlb.CRBconverter()\n",
    "# [_,_,_,_,crbp, crbv] = crb_conv.get_CRBposvel_from_rd(cr, cd, sensors, scene)\n",
    "\n",
    "# print('Range-Doppler error'),print(rd_error)\n",
    "# print('Position-Velocity error'),print(pv_error)\n"
   ]
  },
  {
   "cell_type": "markdown",
   "metadata": {},
   "source": [
    "## Plot results from single snapshot simulation"
   ]
  },
  {
   "cell_type": "code",
   "execution_count": 25,
   "metadata": {},
   "outputs": [
    {
     "name": "stdout",
     "output_type": "stream",
     "text": [
      "SAGA detected 20 of 20 targets in 0.35s with sensor observations:[18, 17, 20, 20].\n",
      "=== Association complexity (graph edges evaluated) ===\n",
      "Brute Force search (All edges) \t=\t2106.0\n",
      "Geometric constraint pruning \t=\t92.0\n",
      "SAGA association algorithm \t=\t20.0\n"
     ]
    },
    {
     "data": {
      "image/png": "[encoded data removed]",
      "text/plain": [
       "<Figure size 432x288 with 1 Axes>"
      ]
     },
     "metadata": {
      "needs_background": "light"
     },
     "output_type": "display_data"
    }
   ],
   "source": [
    "print ('{} detected {} of {} targets in {}s with sensor observations:{}.'.format(cfg.mode, len(min_gsigs),Nob, round(sum(runtime),2),[len(garda.r) for garda in garda_sel]))\n",
    "print('=== Association complexity (graph edges evaluated) ===')\n",
    "print('Brute Force search (All edges) \\t=\\t{}'.format(Total_edges))\n",
    "print('Geometric constraint pruning \\t=\\t{}'.format(assoc_time[0]))\n",
    "print('{} association algorithm \\t=\\t{}'.format(assoc_algo, assoc_time[1]))\n",
    "plt.figure(13)\n",
    "for gtr in min_gsigs:\n",
    "    dob = gtr.state_end.mean\n",
    "    plt.quiver(dob[0], dob[1], dob[2], dob[3],color='r', headwidth = 4)\n",
    "pr.plot_scene(plt, scene, sensors, 13, '{} detected {} of {} targets  SNR = {} dB'.format(assoc_algo,len(min_gsigs), Nob, round(snr)))"
   ]
  },
  {
   "cell_type": "code",
   "execution_count": null,
   "metadata": {},
   "outputs": [],
   "source": []
  }
 ],
 "metadata": {
  "interpreter": {
   "hash": "c0fd1e98e332dfb716c28a5d3d3d6414e8453d2a88c952b74f113bdd5a18a941"
  },
  "kernelspec": {
   "display_name": "Python 3.9.6 64-bit ('base': conda)",
   "language": "python",
   "name": "python396jvsc74a57bd0c0fd1e98e332dfb716c28a5d3d3d6414e8453d2a88c952b74f113bdd5a18a941"
  },
  "language_info": {
   "codemirror_mode": {
    "name": "ipython",
    "version": 3
   },
   "file_extension": ".py",
   "mimetype": "text/x-python",
   "name": "python",
   "nbconvert_exporter": "python",
   "pygments_lexer": "ipython3",
   "version": "3.9.6"
  }
 },
 "nbformat": 4,
 "nbformat_minor": 4
}
